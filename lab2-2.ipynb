{
 "cells": [
  {
   "cell_type": "code",
   "execution_count": 3,
   "metadata": {},
   "outputs": [
    {
     "data": {
      "image/png": "[encoded data removed]",
      "text/plain": [
       "<matplotlib.figure.Figure at 0x7fb3767277f0>"
      ]
     },
     "metadata": {},
     "output_type": "display_data"
    }
   ],
   "source": [
    "import numpy as np\n",
    "import matplotlib.pyplot as plt\n",
    "import matplotlib.animation as animation\n",
    "\n",
    "fig, ax = plt.subplots()\n",
    "\n",
    "circle, = ax.plot([], [], 'bo', ms=10)\n",
    "#начальная точка (исходные координата и скорость)\n",
    "coord = np.array([5000.,9000.])\n",
    "velocity = np.array([0.,0.])\n",
    "#диапазон\n",
    "def init():\n",
    "    ax.set_xlim([0., 10000.])\n",
    "    ax.set_ylim([0., 10000.])\n",
    "    return circle,\n",
    "\n",
    "g = 9.8\n",
    "\n",
    "def newfig(frame):\n",
    "    # приращение координаты\n",
    "    coord[1] = coord[1] + velocity[1] - 0.5 * g\n",
    "    velocity[1] = velocity[1] - g\n",
    "    if coord[1] <= 0.:\n",
    "        # упругий удар\n",
    "        velocity[1] = -velocity[1]\n",
    "    circle.set_xdata(coord[0])\n",
    "    circle.set_ydata(coord[1])\n",
    "    return circle,\n",
    "\"\"\"\n",
    "def newfig(frame):\n",
    "    # приращение координаты\n",
    "    coord[1] = coord[1] + velocity[1] * 0.5\n",
    "    velocity[1] = velocity[1] - g\n",
    "    if coord[1] <= 200.:\n",
    "        #неупругий удар\n",
    "        coord[1] = 200\n",
    "        circle.set_xdata(coord[0])\n",
    "    circle.set_ydata(coord[1])\n",
    "    return circle,\n",
    "\"\"\"\n",
    "figure = animation.FuncAnimation(fig, newfig, frames=1000, init_func=init, interval=30, blit=True, repeat=False)\n",
    "plt.show()"
   ]
  },
  {
   "cell_type": "code",
   "execution_count": null,
   "metadata": {},
   "outputs": [],
   "source": []
  },
  {
   "cell_type": "code",
   "execution_count": null,
   "metadata": {},
   "outputs": [],
   "source": []
  }
 ],
 "metadata": {
  "kernelspec": {
   "display_name": "Python 3",
   "language": "python",
   "name": "python3"
  },
  "language_info": {
   "codemirror_mode": {
    "name": "ipython",
    "version": 3
   },
   "file_extension": ".py",
   "mimetype": "text/x-python",
   "name": "python",
   "nbconvert_exporter": "python",
   "pygments_lexer": "ipython3",
   "version": "3.6.5"
  }
 },
 "nbformat": 4,
 "nbformat_minor": 2
}
