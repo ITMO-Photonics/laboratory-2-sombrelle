{
 "cells": [
  {
   "cell_type": "code",
   "execution_count": null,
   "metadata": {},
   "outputs": [],
   "source": [
    "import numpy as np\n",
    "import matplotlib.pyplot as plt\n",
    "import matplotlib.animation as animation\n",
    "\n",
    "g = 9.81\n",
    "h=0.01\n",
    "x0=20. #начальная координата x\n",
    "y0=20. #начальная координата y\n",
    "Vx0=0. #начальная скорость по x\n",
    "Vy0=0. #начальная скорость по y\n",
    "limit = 50.\n",
    "\n",
    "fig, ax = plt.subplots()\n",
    "\n",
    "circle, = ax.plot([], [], 'bo', ms=10)\n",
    "coord = np.array([x0,y0])\n",
    "vel = np.array([Vx0,Vy0]) \n",
    "\n",
    "def init():\n",
    "    ax.set_xlim([0., limit])\n",
    "    ax.set_ylim([0., limit])\n",
    "    return circle,\n",
    "\n",
    "def updatefig_explicitEuler(frame):\n",
    "    vel[1] = vel[1]+g*h\n",
    "    coord[1] = coord[1]-h*vel[1]    \n",
    "    if coord[1]<=0.:    \n",
    "        vel[1]=0.\n",
    "\n",
    "    circle.set_xdata(coord[0])\n",
    "    circle.set_ydata(coord[1])\n",
    "    return circle,\n",
    "\n",
    "def updatefig_implicitEuler(frame):\n",
    "    vel[1] = vel[1]+g*h\n",
    "    coord[1] = coord[1]-h*vel[1]-g*h**2    \n",
    "    if coord[1]<=0.:    \n",
    "        vel[1]=-0.9*vel[1]\n",
    "\n",
    "    circle.set_xdata(coord[0])\n",
    "    circle.set_ydata(coord[1])\n",
    "    return circle,\n",
    "\n",
    "anim = animation.FuncAnimation(fig, updatefig_explicitEuler, frames=2000000, init_func=init, interval=0.01, blit=True, repeat=False)\n",
    "plt.show()\n"
   ]
  }
 ],
 "metadata": {
  "kernelspec": {
   "display_name": "Python 3",
   "language": "python",
   "name": "python3"
  },
  "language_info": {
   "codemirror_mode": {
    "name": "ipython",
    "version": 3
   },
   "file_extension": ".py",
   "mimetype": "text/x-python",
   "name": "python",
   "nbconvert_exporter": "python",
   "pygments_lexer": "ipython3",
   "version": "3.6.4"
  }
 },
 "nbformat": 4,
 "nbformat_minor": 2
}
