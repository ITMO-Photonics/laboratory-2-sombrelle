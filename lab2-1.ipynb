import numpy as np
import matplotlib.pyplot as plt
import matplotlib.animation as animation

g = 9.81
h=0.01
x0=20. #начальная координата x
y0=20. #начальная координата y
Vx0=0. #начальная скорость по x
Vy0=0. #начальная скорость по y
limit = 50.

fig, ax = plt.subplots()

circle, = ax.plot([], [], 'bo', ms=10)
coord = np.array([x0,y0])
vel = np.array([Vx0,Vy0]) 

def init():
    ax.set_xlim([0., limit])
    ax.set_ylim([0., limit])
    return circle,

def updatefig_explicitEuler(frame):
    vel[1] = vel[1]+g*h
    coord[1] = coord[1]-h*vel[1]    
    if coord[1]<=0.:    
        vel[1]=0.

    circle.set_xdata(coord[0])
    circle.set_ydata(coord[1])
    return circle,

def updatefig_implicitEuler(frame):
    vel[1] = vel[1]+g*h
    coord[1] = coord[1]-h*vel[1]-g*h**2    
    if coord[1]<=0.:    
        vel[1]=-0.9*vel[1]

    circle.set_xdata(coord[0])
    circle.set_ydata(coord[1])
    return circle,

anim = animation.FuncAnimation(fig, updatefig_explicitEuler, frames=2000000, init_func=init, interval=0.01, blit=True, repeat=False)
plt.show()
