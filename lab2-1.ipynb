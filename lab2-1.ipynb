{
 "cells": [
  {
   "cell_type": "code",
   "execution_count": 2,
   "metadata": {},
   "outputs": [
    {
     "data": {
      "image/png": "[encoded data removed]",
      "text/plain": [
       "<matplotlib.figure.Figure at 0x7fb376727dd8>"
      ]
     },
     "metadata": {},
     "output_type": "display_data"
    }
   ],
   "source": [
    "import numpy as np\n",
    "import matplotlib.pyplot as plt\n",
    "import matplotlib.animation as animation\n",
    "\n",
    "fig, ax = plt.subplots()\n",
    "\n",
    "circle, = ax.plot([], [], 'bo', ms=10)\n",
    "coord = np.array([50., 90.])\n",
    "velocity = np.array([0., 0.])\n",
    "\n",
    "def init():\n",
    "    ax.set_xlim([0., 100.])\n",
    "    ax.set_ylim([0., 100.])\n",
    "    return circle,\n",
    "\n",
    "g = 9.8\n",
    "def Euler(coord,velocity, g):\n",
    "    coord[1] = coord[1] + velocity[1] * 0.5\n",
    "    velocity[1] = velocity[1] - g\n",
    "    return coord\n",
    "\n",
    "h = 3./6.\n",
    "def RungeKutta(coord, velocity, h, g):\n",
    "    k1 = velocity[1]\n",
    "    k2 = velocity[1] - g\n",
    "    coord[1] = coord[1] + h * (k1 + k2) * 0.5\n",
    "    velocity[1] = velocity[1] - 9.8\n",
    "    return coord\n",
    "\n",
    "def newfig(frame):\n",
    "\n",
    "    Euler(coord, velocity, g)\n",
    "    #RungeKutta(coord, velocity, h, g)\n",
    "\n",
    "    circle.set_xdata(coord[0])\n",
    "    circle.set_ydata(coord[1])\n",
    "    return circle,\n",
    "\n",
    "figure = animation.FuncAnimation(fig, newfig, frames=1000, init_func=init, interval=30, blit=True, repeat=False)\n",
    "plt.show()"
   ]
  },
  {
   "cell_type": "code",
   "execution_count": null,
   "metadata": {},
   "outputs": [],
   "source": []
  },
  {
   "cell_type": "code",
   "execution_count": null,
   "metadata": {},
   "outputs": [],
   "source": []
  }
 ],
 "metadata": {
  "kernelspec": {
   "display_name": "Python 3",
   "language": "python",
   "name": "python3"
  },
  "language_info": {
   "codemirror_mode": {
    "name": "ipython",
    "version": 3
   },
   "file_extension": ".py",
   "mimetype": "text/x-python",
   "name": "python",
   "nbconvert_exporter": "python",
   "pygments_lexer": "ipython3",
   "version": "3.6.5"
  }
 },
 "nbformat": 4,
 "nbformat_minor": 2
}
